{
 "cells": [
  {
   "cell_type": "code",
   "execution_count": 1,
   "metadata": {},
   "outputs": [
    {
     "name": "stderr",
     "output_type": "stream",
     "text": [
      "/home/codespace/.python/current/lib/python3.10/site-packages/pinecone/data/index.py:1: TqdmWarning: IProgress not found. Please update jupyter and ipywidgets. See https://ipywidgets.readthedocs.io/en/stable/user_install.html\n",
      "  from tqdm.autonotebook import tqdm\n"
     ]
    }
   ],
   "source": [
    "import pandas as pd\n",
    "from pinecone import Pinecone\n",
    "import os"
   ]
  },
  {
   "cell_type": "code",
   "execution_count": null,
   "metadata": {},
   "outputs": [],
   "source": [
    "def data_processing(csv_path:str='../data/champions_lore.csv'):\n",
    "    '''\n",
    "    This function processes the data and returns a DataFrame with the processed data\n",
    "\n",
    "    '''\n",
    "    df = load_data(csv_path = csv_path)\n",
    "    new_df = chunk_story(df, chunk_size=1000, overlap_size=200)\n",
    "    new_df['champion'] = new_df['champion'].str.replace(\"[’\\s]\", \"\", regex=True)\n",
    "    new_df['champion_with_number'] = new_df['champion'] + (new_df.groupby('champion').cumcount() + 1).astype(str)\n",
    "    \n",
    "    parent_dir = os.path.dirname(os.path.dirname(os.path.abspath(__file__)))\n",
    "    csv_name_path = os.path.join(parent_dir, 'data/champion_names.csv')\n",
    "    \n",
    "    new_df['champion_with_number'].to_csv(csv_name_path, index=False)\n",
    "\n",
    "    final_df = get_df_embeddings(new_df, model='RAG-Embedding')\n",
    "\n",
    "    # Create a new DataFrame with the processed data\n",
    "    processed_df = pd.DataFrame({'id': new_df['champion_with_number'], 'values': final_df, 'metadata': new_df['story_chunk']})\n",
    "\n",
    "    \n",
    "    # Add metadata to the processed_df\n",
    "    for _, row in processed_df.iterrows():\n",
    "        index = row.name\n",
    "        story_chunk = row['metadata']\n",
    "\n",
    "        metadata_dict = {}\n",
    "\n",
    "        metadata_dict['chunk'] = index\n",
    "        metadata_dict['text'] = story_chunk\n",
    "        row['metadata'] = metadata_dict\n",
    "\n",
    "    return processed_df"
   ]
  },
  {
   "cell_type": "code",
   "execution_count": 6,
   "metadata": {},
   "outputs": [
    {
     "name": "stdout",
     "output_type": "stream",
     "text": [
      "page_content=\"id: 56152\\nname: A Former Child Soldier Who Uses a Magic Sword Wants to Live with an Older Sister of a Former Enemy Executive\\nassoc_names: ['A Former Child Soldier Who Uses a Magic Sword Wants to Live with a Missy, The Former Leader of His Enemies', 'Maken Tsukai no Moto Shounen Hei wa, Moto Tekikanbu no Onee-san to Issho ni Ikitai', '魔剣使いの元少年兵は、元敵幹部のお姉さんと一緒に生きたい']\\noriginal_language: japanese\\nauthors: ['hasekura mondo', '支倉文度']\\ngenres: ['action', 'adventure', 'fantasy', 'romance', 'seinen']\\ntags: ['adapted to manga', 'calm protagonist', 'enemies become lovers', 'heroes', 'identity crisis', 'magic beasts', 'male protagonist', 'older love interests', 'protagonist strong from the start', 'strong to stronger', 'sword and magic', 'teamwork']\\nstart_year: 2018\\nlicensed: False\\noriginal_publisher: shinkigensha\\nenglish_publisher: \\ncomplete_original: False\\nchapters_original_current: 144 chapters\\ncomplete_translated: False\\nchapter_latest_translated: c24\\nrelease_freq: 3.9\\nactivity_week_rank: 1648\\nactivity_month_rank: 1359\\nactivity_all_time_rank: 7632\\non_reading_lists: 521\\nreading_list_month_rank: 1437\\nreading_list_all_time_rank: 8470\\nrating: 3.5\\nrating_votes: 24\\nrelated_series_ids: \\nrecommended_series_ids: \\nrecommendation_list_ids: [1382]\" metadata={'source': './data/novels_0.1.3.csv', 'row': 0}\n",
      "page_content=\"id: 58160\\nname: A Lifelong Love Affair At Work\\nassoc_names: ['평생직장에서 사내연애']\\noriginal_language: korean\\nauthors: ['새벽한강']\\ngenres: ['action', 'adventure', 'romance', 'shounen ai']\\ntags: ['magic', 'office romance']\\nstart_year: 2022\\nlicensed: False\\noriginal_publisher: ridibooks\\nenglish_publisher: \\ncomplete_original: False\\nchapters_original_current: 74 chapters\\ncomplete_translated: False\\nchapter_latest_translated: c4\\nrelease_freq: 3.3\\nactivity_week_rank: 2265\\nactivity_month_rank: 3256\\nactivity_all_time_rank: 13595\\non_reading_lists: 132\\nreading_list_month_rank: 5158\\nreading_list_all_time_rank: 12646\\nrating: 5.0\\nrating_votes: 2\\nrelated_series_ids: \\nrecommended_series_ids: \\nrecommendation_list_ids: [60769, 50877, 48872]\" metadata={'source': './data/novels_0.1.3.csv', 'row': 1}\n"
     ]
    }
   ],
   "source": [
    "from langchain_community.document_loaders.csv_loader import CSVLoader\n",
    "file_path = (\n",
    "    \"./data/novels_0.1.3.csv\"\n",
    ")\n",
    "\n",
    "loader = CSVLoader(file_path=file_path)\n",
    "data = loader.load()\n",
    "\n",
    "for record in data[:2]:\n",
    "    print(record)"
   ]
  },
  {
   "cell_type": "code",
   "execution_count": 11,
   "metadata": {},
   "outputs": [
    {
     "data": {
      "text/plain": [
       "13592"
      ]
     },
     "execution_count": 11,
     "metadata": {},
     "output_type": "execute_result"
    }
   ],
   "source": [
    "len(data)"
   ]
  },
  {
   "cell_type": "code",
   "execution_count": 8,
   "metadata": {},
   "outputs": [
    {
     "data": {
      "text/plain": [
       "21684"
      ]
     },
     "execution_count": 8,
     "metadata": {},
     "output_type": "execute_result"
    }
   ],
   "source": [
    "from langchain_text_splitters import RecursiveCharacterTextSplitter\n",
    "\n",
    "text_splitter = RecursiveCharacterTextSplitter(\n",
    "    chunk_size=1000, chunk_overlap=200, add_start_index=True\n",
    ")\n",
    "all_splits = text_splitter.split_documents(data)\n",
    "\n",
    "len(all_splits)"
   ]
  },
  {
   "cell_type": "code",
   "execution_count": 15,
   "metadata": {},
   "outputs": [],
   "source": [
    "import os\n",
    "from pinecone import Pinecone\n",
    "\n",
    "# initialize connection to pinecone (get API key at app.pinecone.io)\n",
    "api_key = os.environ.get('PINECONE_API_KEY')\n",
    "\n",
    "# configure client\n",
    "pc = Pinecone(api_key=api_key)"
   ]
  },
  {
   "cell_type": "code",
   "execution_count": 16,
   "metadata": {},
   "outputs": [
    {
     "data": {
      "text/plain": [
       "<pinecone.control.pinecone.Pinecone at 0x73dd4f2545e0>"
      ]
     },
     "execution_count": 16,
     "metadata": {},
     "output_type": "execute_result"
    }
   ],
   "source": [
    "pc"
   ]
  },
  {
   "cell_type": "code",
   "execution_count": 36,
   "metadata": {},
   "outputs": [
    {
     "data": {
      "text/plain": [
       "{'dimension': 768,\n",
       " 'index_fullness': 0.0,\n",
       " 'namespaces': {},\n",
       " 'total_vector_count': 0}"
      ]
     },
     "execution_count": 36,
     "metadata": {},
     "output_type": "execute_result"
    }
   ],
   "source": [
    "index_name = 'novels'\n",
    "index = pc.Index(index_name)\n",
    "# wait a moment for connection\n",
    "\n",
    "index.describe_index_stats()"
   ]
  },
  {
   "cell_type": "code",
   "execution_count": 34,
   "metadata": {},
   "outputs": [
    {
     "name": "stderr",
     "output_type": "stream",
     "text": [
      "/home/codespace/.python/current/lib/python3.10/site-packages/huggingface_hub/file_download.py:1132: FutureWarning: `resume_download` is deprecated and will be removed in version 1.0.0. Downloads always resume when possible. If you want to force a new download, use `force_download=True`.\n",
      "  warnings.warn(\n"
     ]
    }
   ],
   "source": [
    "from langchain_community.embeddings import HuggingFaceEmbeddings\n",
    "\n",
    "embeddings_model = HuggingFaceEmbeddings(model_name=\"sentence-transformers/all-mpnet-base-v2\")"
   ]
  },
  {
   "cell_type": "code",
   "execution_count": 37,
   "metadata": {},
   "outputs": [],
   "source": [
    "import time\n",
    "from langchain_pinecone import PineconeVectorStore\n",
    "\n",
    "namespace = \"novelvector\"\n",
    "\n",
    "docsearch = PineconeVectorStore.from_documents(\n",
    "    documents=all_splits,\n",
    "    index_name=index_name,\n",
    "    embedding=embeddings_model, \n",
    "    namespace=namespace \n",
    ")\n",
    "\n",
    "time.sleep(1)\n"
   ]
  },
  {
   "cell_type": "markdown",
   "metadata": {},
   "source": []
  },
  {
   "cell_type": "code",
   "execution_count": 4,
   "metadata": {},
   "outputs": [
    {
     "ename": "NameError",
     "evalue": "name 'data_processing' is not defined",
     "output_type": "error",
     "traceback": [
      "\u001b[0;31m---------------------------------------------------------------------------\u001b[0m",
      "\u001b[0;31mNameError\u001b[0m                                 Traceback (most recent call last)",
      "Cell \u001b[0;32mIn[4], line 9\u001b[0m\n\u001b[1;32m      7\u001b[0m parent_dir \u001b[38;5;241m=\u001b[39m os\u001b[38;5;241m.\u001b[39mpath\u001b[38;5;241m.\u001b[39mdirname(os\u001b[38;5;241m.\u001b[39mpath\u001b[38;5;241m.\u001b[39mdirname(current_dir))\n\u001b[1;32m      8\u001b[0m csv_path \u001b[38;5;241m=\u001b[39m os\u001b[38;5;241m.\u001b[39mpath\u001b[38;5;241m.\u001b[39mjoin(parent_dir, \u001b[38;5;124m'\u001b[39m\u001b[38;5;124mdata/novels_0.1.3.csv\u001b[39m\u001b[38;5;124m'\u001b[39m)\n\u001b[0;32m----> 9\u001b[0m processed_df \u001b[38;5;241m=\u001b[39m \u001b[43mdata_processing\u001b[49m(csv_path\u001b[38;5;241m=\u001b[39mcsv_path)\n",
      "\u001b[0;31mNameError\u001b[0m: name 'data_processing' is not defined"
     ]
    }
   ],
   "source": [
    "try:\n",
    "    # 尝试获取脚本的路径\n",
    "    current_dir = os.path.dirname(os.path.abspath(__file__))\n",
    "except NameError:\n",
    "    # 在 Jupyter Notebook 中使用当前工作目录\n",
    "    current_dir = os.getcwd()\n",
    "parent_dir = os.path.dirname(os.path.dirname(current_dir))\n",
    "csv_path = os.path.join(parent_dir, 'data/novels_0.1.3.csv')\n",
    "processed_df = data_processing(csv_path=csv_path)\n",
    "\n"
   ]
  },
  {
   "cell_type": "code",
   "execution_count": null,
   "metadata": {},
   "outputs": [],
   "source": [
    "# initialize connection to pinecone (get API key at app.pc.io)\n",
    "api_key = os.environ.get('PINECONE_API_KEY') or 'PINECONE_API_KEY'\n",
    "environment = os.environ.get('PINECONE_ENVIRONMENT') or 'PINECONE_ENVIRONMENT'\n",
    "\n",
    "# configure client\n",
    "pc = Pinecone(api_key=api_key)\n",
    "\n",
    "# create a new index\n",
    "index_name = 'novels'\n",
    "index = pc.Index(index_name)\n",
    "\n",
    "index.upsert_from_dataframe(processed_df, batch_size=100)\n",
    "print(f\"Data stored in index {index_name}\")"
   ]
  }
 ],
 "metadata": {
  "kernelspec": {
   "display_name": "Python 3",
   "language": "python",
   "name": "python3"
  },
  "language_info": {
   "codemirror_mode": {
    "name": "ipython",
    "version": 3
   },
   "file_extension": ".py",
   "mimetype": "text/x-python",
   "name": "python",
   "nbconvert_exporter": "python",
   "pygments_lexer": "ipython3",
   "version": "3.10.13"
  }
 },
 "nbformat": 4,
 "nbformat_minor": 2
}

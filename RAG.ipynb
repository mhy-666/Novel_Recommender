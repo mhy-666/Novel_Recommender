{
 "cells": [
  {
   "cell_type": "code",
   "execution_count": 1,
   "metadata": {},
   "outputs": [
    {
     "name": "stderr",
     "output_type": "stream",
     "text": [
      "/home/codespace/.python/current/lib/python3.10/site-packages/pinecone/data/index.py:1: TqdmWarning: IProgress not found. Please update jupyter and ipywidgets. See https://ipywidgets.readthedocs.io/en/stable/user_install.html\n",
      "  from tqdm.autonotebook import tqdm\n"
     ]
    }
   ],
   "source": [
    "import pandas as pd\n",
    "from pinecone import Pinecone\n",
    "import os"
   ]
  },
  {
   "cell_type": "code",
   "execution_count": null,
   "metadata": {},
   "outputs": [],
   "source": [
    "def data_processing(csv_path:str='../data/champions_lore.csv'):\n",
    "    '''\n",
    "    This function processes the data and returns a DataFrame with the processed data\n",
    "\n",
    "    '''\n",
    "    df = load_data(csv_path = csv_path)\n",
    "    new_df = chunk_story(df, chunk_size=1000, overlap_size=200)\n",
    "    new_df['champion'] = new_df['champion'].str.replace(\"[’\\s]\", \"\", regex=True)\n",
    "    new_df['champion_with_number'] = new_df['champion'] + (new_df.groupby('champion').cumcount() + 1).astype(str)\n",
    "    \n",
    "    parent_dir = os.path.dirname(os.path.dirname(os.path.abspath(__file__)))\n",
    "    csv_name_path = os.path.join(parent_dir, 'data/champion_names.csv')\n",
    "    \n",
    "    new_df['champion_with_number'].to_csv(csv_name_path, index=False)\n",
    "\n",
    "    final_df = get_df_embeddings(new_df, model='RAG-Embedding')\n",
    "\n",
    "    # Create a new DataFrame with the processed data\n",
    "    processed_df = pd.DataFrame({'id': new_df['champion_with_number'], 'values': final_df, 'metadata': new_df['story_chunk']})\n",
    "\n",
    "    \n",
    "    # Add metadata to the processed_df\n",
    "    for _, row in processed_df.iterrows():\n",
    "        index = row.name\n",
    "        story_chunk = row['metadata']\n",
    "\n",
    "        metadata_dict = {}\n",
    "\n",
    "        metadata_dict['chunk'] = index\n",
    "        metadata_dict['text'] = story_chunk\n",
    "        row['metadata'] = metadata_dict\n",
    "\n",
    "    return processed_df"
   ]
  },
  {
   "cell_type": "code",
   "execution_count": 6,
   "metadata": {},
   "outputs": [
    {
     "name": "stdout",
     "output_type": "stream",
     "text": [
      "page_content=\"id: 56152\\nname: A Former Child Soldier Who Uses a Magic Sword Wants to Live with an Older Sister of a Former Enemy Executive\\nassoc_names: ['A Former Child Soldier Who Uses a Magic Sword Wants to Live with a Missy, The Former Leader of His Enemies', 'Maken Tsukai no Moto Shounen Hei wa, Moto Tekikanbu no Onee-san to Issho ni Ikitai', '魔剣使いの元少年兵は、元敵幹部のお姉さんと一緒に生きたい']\\noriginal_language: japanese\\nauthors: ['hasekura mondo', '支倉文度']\\ngenres: ['action', 'adventure', 'fantasy', 'romance', 'seinen']\\ntags: ['adapted to manga', 'calm protagonist', 'enemies become lovers', 'heroes', 'identity crisis', 'magic beasts', 'male protagonist', 'older love interests', 'protagonist strong from the start', 'strong to stronger', 'sword and magic', 'teamwork']\\nstart_year: 2018\\nlicensed: False\\noriginal_publisher: shinkigensha\\nenglish_publisher: \\ncomplete_original: False\\nchapters_original_current: 144 chapters\\ncomplete_translated: False\\nchapter_latest_translated: c24\\nrelease_freq: 3.9\\nactivity_week_rank: 1648\\nactivity_month_rank: 1359\\nactivity_all_time_rank: 7632\\non_reading_lists: 521\\nreading_list_month_rank: 1437\\nreading_list_all_time_rank: 8470\\nrating: 3.5\\nrating_votes: 24\\nrelated_series_ids: \\nrecommended_series_ids: \\nrecommendation_list_ids: [1382]\" metadata={'source': './data/novels_0.1.3.csv', 'row': 0}\n",
      "page_content=\"id: 58160\\nname: A Lifelong Love Affair At Work\\nassoc_names: ['평생직장에서 사내연애']\\noriginal_language: korean\\nauthors: ['새벽한강']\\ngenres: ['action', 'adventure', 'romance', 'shounen ai']\\ntags: ['magic', 'office romance']\\nstart_year: 2022\\nlicensed: False\\noriginal_publisher: ridibooks\\nenglish_publisher: \\ncomplete_original: False\\nchapters_original_current: 74 chapters\\ncomplete_translated: False\\nchapter_latest_translated: c4\\nrelease_freq: 3.3\\nactivity_week_rank: 2265\\nactivity_month_rank: 3256\\nactivity_all_time_rank: 13595\\non_reading_lists: 132\\nreading_list_month_rank: 5158\\nreading_list_all_time_rank: 12646\\nrating: 5.0\\nrating_votes: 2\\nrelated_series_ids: \\nrecommended_series_ids: \\nrecommendation_list_ids: [60769, 50877, 48872]\" metadata={'source': './data/novels_0.1.3.csv', 'row': 1}\n"
     ]
    }
   ],
   "source": [
    "from langchain_community.document_loaders.csv_loader import CSVLoader\n",
    "file_path = (\n",
    "    \"./data/novels_0.1.3.csv\"\n",
    ")\n",
    "\n",
    "loader = CSVLoader(file_path=file_path)\n",
    "data = loader.load()\n",
    "\n",
    "for record in data[:2]:\n",
    "    print(record)"
   ]
  },
  {
   "cell_type": "code",
   "execution_count": 11,
   "metadata": {},
   "outputs": [
    {
     "data": {
      "text/plain": [
       "13592"
      ]
     },
     "execution_count": 11,
     "metadata": {},
     "output_type": "execute_result"
    }
   ],
   "source": [
    "len(data)"
   ]
  },
  {
   "cell_type": "code",
   "execution_count": 8,
   "metadata": {},
   "outputs": [
    {
     "data": {
      "text/plain": [
       "21684"
      ]
     },
     "execution_count": 8,
     "metadata": {},
     "output_type": "execute_result"
    }
   ],
   "source": [
    "from langchain_text_splitters import RecursiveCharacterTextSplitter\n",
    "\n",
    "text_splitter = RecursiveCharacterTextSplitter(\n",
    "    chunk_size=1000, chunk_overlap=200, add_start_index=True\n",
    ")\n",
    "all_splits = text_splitter.split_documents(data)\n",
    "\n",
    "len(all_splits)"
   ]
  },
  {
   "cell_type": "code",
   "execution_count": 44,
   "metadata": {},
   "outputs": [],
   "source": [
    "import os\n",
    "from pinecone import Pinecone\n",
    "from dotenv import load_dotenv\n",
    "\n",
    "load_dotenv()\n",
    "\n",
    "# initialize connection to pinecone (get API key at app.pinecone.io)\n",
    "api_key = os.getenv('PINECONE_API_KEY')\n",
    "\n",
    "# configure client\n",
    "pc = Pinecone(api_key=api_key)"
   ]
  },
  {
   "cell_type": "code",
   "execution_count": 46,
   "metadata": {},
   "outputs": [
    {
     "data": {
      "text/plain": [
       "<pinecone.control.pinecone.Pinecone at 0x1b778202100>"
      ]
     },
     "execution_count": 46,
     "metadata": {},
     "output_type": "execute_result"
    }
   ],
   "source": [
    "pc"
   ]
  },
  {
   "cell_type": "code",
   "execution_count": 68,
   "metadata": {},
   "outputs": [
    {
     "data": {
      "text/plain": [
       "{'dimension': 768,\n",
       " 'index_fullness': 0.0,\n",
       " 'namespaces': {'novelvector': {'vector_count': 3000}},\n",
       " 'total_vector_count': 3000}"
      ]
     },
     "execution_count": 68,
     "metadata": {},
     "output_type": "execute_result"
    }
   ],
   "source": [
    "index_name = 'novels'\n",
    "index = pc.Index(index_name)\n",
    "# wait a moment for connection\n",
    "\n",
    "index.describe_index_stats()"
   ]
  },
  {
   "cell_type": "code",
   "execution_count": 53,
   "metadata": {},
   "outputs": [
    {
     "name": "stderr",
     "output_type": "stream",
     "text": [
      "m:\\Anaconda3\\envs\\LLMs\\lib\\site-packages\\huggingface_hub\\file_download.py:148: UserWarning: `huggingface_hub` cache-system uses symlinks by default to efficiently store duplicated files but your machine does not support them in C:\\Users\\mhy\\.cache\\huggingface\\hub\\models--sentence-transformers--all-mpnet-base-v2. Caching files will still work but in a degraded version that might require more space on your disk. This warning can be disabled by setting the `HF_HUB_DISABLE_SYMLINKS_WARNING` environment variable. For more details, see https://huggingface.co/docs/huggingface_hub/how-to-cache#limitations.\n",
      "To support symlinks on Windows, you either need to activate Developer Mode or to run Python as an administrator. In order to see activate developer mode, see this article: https://docs.microsoft.com/en-us/windows/apps/get-started/enable-your-device-for-development\n",
      "  warnings.warn(message)\n"
     ]
    }
   ],
   "source": [
    "from langchain_community.embeddings import HuggingFaceEmbeddings\n",
    "\n",
    "embeddings_model = HuggingFaceEmbeddings(model_name=\"sentence-transformers/all-mpnet-base-v2\")"
   ]
  },
  {
   "cell_type": "code",
   "execution_count": 52,
   "metadata": {},
   "outputs": [
    {
     "name": "stdout",
     "output_type": "stream",
     "text": [
      "Collecting sentence-transformers\n",
      "  Downloading sentence_transformers-3.0.1-py3-none-any.whl.metadata (10 kB)\n",
      "Requirement already satisfied: transformers<5.0.0,>=4.34.0 in m:\\anaconda3\\envs\\llms\\lib\\site-packages (from sentence-transformers) (4.41.0.dev0)\n",
      "Requirement already satisfied: tqdm in m:\\anaconda3\\envs\\llms\\lib\\site-packages (from sentence-transformers) (4.66.2)\n",
      "Requirement already satisfied: torch>=1.11.0 in m:\\anaconda3\\envs\\llms\\lib\\site-packages (from sentence-transformers) (2.2.2)\n",
      "Requirement already satisfied: numpy in m:\\anaconda3\\envs\\llms\\lib\\site-packages (from sentence-transformers) (1.23.4)\n",
      "Requirement already satisfied: scikit-learn in m:\\anaconda3\\envs\\llms\\lib\\site-packages (from sentence-transformers) (1.4.2)\n",
      "Requirement already satisfied: scipy in m:\\anaconda3\\envs\\llms\\lib\\site-packages (from sentence-transformers) (1.13.0)\n",
      "Requirement already satisfied: huggingface-hub>=0.15.1 in m:\\anaconda3\\envs\\llms\\lib\\site-packages (from sentence-transformers) (0.22.2)\n",
      "Requirement already satisfied: Pillow in m:\\anaconda3\\envs\\llms\\lib\\site-packages (from sentence-transformers) (10.3.0)\n",
      "Requirement already satisfied: filelock in m:\\anaconda3\\envs\\llms\\lib\\site-packages (from huggingface-hub>=0.15.1->sentence-transformers) (3.13.4)\n",
      "Requirement already satisfied: fsspec>=2023.5.0 in m:\\anaconda3\\envs\\llms\\lib\\site-packages (from huggingface-hub>=0.15.1->sentence-transformers) (2024.2.0)\n",
      "Requirement already satisfied: packaging>=20.9 in m:\\anaconda3\\envs\\llms\\lib\\site-packages (from huggingface-hub>=0.15.1->sentence-transformers) (23.2)\n",
      "Requirement already satisfied: pyyaml>=5.1 in m:\\anaconda3\\envs\\llms\\lib\\site-packages (from huggingface-hub>=0.15.1->sentence-transformers) (6.0.1)\n",
      "Requirement already satisfied: requests in m:\\anaconda3\\envs\\llms\\lib\\site-packages (from huggingface-hub>=0.15.1->sentence-transformers) (2.28.1)\n",
      "Requirement already satisfied: typing-extensions>=3.7.4.3 in m:\\anaconda3\\envs\\llms\\lib\\site-packages (from huggingface-hub>=0.15.1->sentence-transformers) (4.10.0)\n",
      "Requirement already satisfied: sympy in m:\\anaconda3\\envs\\llms\\lib\\site-packages (from torch>=1.11.0->sentence-transformers) (1.12)\n",
      "Requirement already satisfied: networkx in m:\\anaconda3\\envs\\llms\\lib\\site-packages (from torch>=1.11.0->sentence-transformers) (3.2.1)\n",
      "Requirement already satisfied: jinja2 in m:\\anaconda3\\envs\\llms\\lib\\site-packages (from torch>=1.11.0->sentence-transformers) (3.1.3)\n",
      "Requirement already satisfied: colorama in m:\\anaconda3\\envs\\llms\\lib\\site-packages (from tqdm->sentence-transformers) (0.4.6)\n",
      "Requirement already satisfied: regex!=2019.12.17 in m:\\anaconda3\\envs\\llms\\lib\\site-packages (from transformers<5.0.0,>=4.34.0->sentence-transformers) (2024.4.16)\n",
      "Requirement already satisfied: tokenizers<0.20,>=0.19 in m:\\anaconda3\\envs\\llms\\lib\\site-packages (from transformers<5.0.0,>=4.34.0->sentence-transformers) (0.19.1)\n",
      "Requirement already satisfied: safetensors>=0.4.1 in m:\\anaconda3\\envs\\llms\\lib\\site-packages (from transformers<5.0.0,>=4.34.0->sentence-transformers) (0.4.3)\n",
      "Requirement already satisfied: joblib>=1.2.0 in m:\\anaconda3\\envs\\llms\\lib\\site-packages (from scikit-learn->sentence-transformers) (1.4.0)\n",
      "Requirement already satisfied: threadpoolctl>=2.0.0 in m:\\anaconda3\\envs\\llms\\lib\\site-packages (from scikit-learn->sentence-transformers) (3.4.0)\n",
      "Requirement already satisfied: MarkupSafe>=2.0 in m:\\anaconda3\\envs\\llms\\lib\\site-packages (from jinja2->torch>=1.11.0->sentence-transformers) (2.1.5)\n",
      "Requirement already satisfied: charset-normalizer<3,>=2 in m:\\anaconda3\\envs\\llms\\lib\\site-packages (from requests->huggingface-hub>=0.15.1->sentence-transformers) (2.1.1)\n",
      "Requirement already satisfied: idna<4,>=2.5 in m:\\anaconda3\\envs\\llms\\lib\\site-packages (from requests->huggingface-hub>=0.15.1->sentence-transformers) (3.4)\n",
      "Requirement already satisfied: urllib3<1.27,>=1.21.1 in m:\\anaconda3\\envs\\llms\\lib\\site-packages (from requests->huggingface-hub>=0.15.1->sentence-transformers) (1.26.12)\n",
      "Requirement already satisfied: certifi>=2017.4.17 in m:\\anaconda3\\envs\\llms\\lib\\site-packages (from requests->huggingface-hub>=0.15.1->sentence-transformers) (2022.9.24)\n",
      "Requirement already satisfied: mpmath>=0.19 in m:\\anaconda3\\envs\\llms\\lib\\site-packages (from sympy->torch>=1.11.0->sentence-transformers) (1.3.0)\n",
      "Downloading sentence_transformers-3.0.1-py3-none-any.whl (227 kB)\n",
      "   ---------------------------------------- 0.0/227.1 kB ? eta -:--:--\n",
      "   ---------------------------------------- 0.0/227.1 kB ? eta -:--:--\n",
      "   ---------------------------------------- 0.0/227.1 kB ? eta -:--:--\n",
      "   - -------------------------------------- 10.2/227.1 kB ? eta -:--:--\n",
      "   ----- --------------------------------- 30.7/227.1 kB 330.3 kB/s eta 0:00:01\n",
      "   ------- ------------------------------- 41.0/227.1 kB 330.3 kB/s eta 0:00:01\n",
      "   ------------------ ------------------- 112.6/227.1 kB 731.4 kB/s eta 0:00:01\n",
      "   ------------------------------------ --- 204.8/227.1 kB 1.2 MB/s eta 0:00:01\n",
      "   ---------------------------------------- 227.1/227.1 kB 1.2 MB/s eta 0:00:00\n",
      "Installing collected packages: sentence-transformers\n",
      "Successfully installed sentence-transformers-3.0.1\n"
     ]
    }
   ],
   "source": [
    "!pip install sentence-transformers"
   ]
  },
  {
   "cell_type": "code",
   "execution_count": 76,
   "metadata": {},
   "outputs": [],
   "source": [
    "from langchain_pinecone import PineconeVectorStore\n",
    "\n",
    "vector_store = PineconeVectorStore(index=index, namespace='novelvector', embedding=embeddings_model)"
   ]
  },
  {
   "cell_type": "code",
   "execution_count": 77,
   "metadata": {},
   "outputs": [
    {
     "data": {
      "text/plain": [
       "<langchain_pinecone.vectorstores.PineconeVectorStore at 0x1b724089160>"
      ]
     },
     "execution_count": 77,
     "metadata": {},
     "output_type": "execute_result"
    }
   ],
   "source": [
    "vector_store"
   ]
  },
  {
   "cell_type": "code",
   "execution_count": 78,
   "metadata": {},
   "outputs": [],
   "source": [
    "results = vector_store.similarity_search_with_score(\n",
    "    \"The Most Sinister Hero\"\n",
    ")"
   ]
  },
  {
   "cell_type": "code",
   "execution_count": 79,
   "metadata": {},
   "outputs": [
    {
     "data": {
      "text/plain": [
       "[(Document(metadata={'row': 214.0, 'source': './data/novels_0.1.3.csv', 'start_index': 0.0}, page_content=\"id: 42010\\nname: A Villainess Needs to Have the Ability of a Villainess\\nassoc_names: ['绿茶要有绿茶的本事']\\noriginal_language: chinese\\nauthors: ['苏钱钱']\\ngenres: ['comedy', 'drama', 'romance', 'slice of life']\\ntags: ['acting', 'beautiful female lead', 'celebrities', 'character growth', 'cold love interests', 'couple growth', 'cute story', 'female protagonist', 'handsome male lead', 'hard-working protagonist', 'late romance', 'modern day', 'slow growth at start', 'slow romance', 'strong love interests', 'stubborn protagonist', 'unlucky protagonist']\\nstart_year: 2021\\nlicensed: False\\noriginal_publisher: jjwxc\\nenglish_publisher: \\ncomplete_original: True\\nchapters_original_current: 63 chapters\\ncomplete_translated: False\\nchapter_latest_translated: c218\\nrelease_freq: 2.3\\nactivity_week_rank: 1727\\nactivity_month_rank: 1604\\nactivity_all_time_rank: 3283\\non_reading_lists: 1808\\nreading_list_month_rank: 1848\\nreading_list_all_time_rank: 3974\\nrating: 3.7\\nrating_votes: 76\\nrelated_series_ids:\"),\n",
       "  0.48047784),\n",
       " (Document(metadata={'row': 608.0, 'source': './data/novels_0.1.3.csv', 'start_index': 0.0}, page_content=\"id: 54943\\nname: I Became The Villain The Hero Is Obsessed With\\nassoc_names: ['The Hero Became Obsessed With The Villain', '히어로가 집착하는 악당이 되었다']\\noriginal_language: korean\\nauthors: ['서은하']\\ngenres: ['action', 'adventure', 'romance', 'supernatural']\\ntags: ['antihero protagonist', 'beautiful female lead', 'comedic undertone', 'confident protagonist', 'crime', 'criminals', 'cunning protagonist', 'depictions of cruelty', 'enemies become lovers', 'famous protagonist', 'heroes', 'hiding true identity', 'male protagonist', 'misunderstandings', 'mob protagonist', 'modern day', 'multiple pov', 'murders', 'obsessive love', 'proactive protagonist', 'protagonist falls in love first', 'psychic powers', 'psychopaths', 'ruthless protagonist', 'spatial manipulation', 'special abilities', 'terrorists', 'transmigration', 'unreliable narrator', 'wealthy characters', 'yandere']\\nstart_year: 2022\\nlicensed: False\\noriginal_publisher: novelpia\\nenglish_publisher: \\ncomplete_original: False\"),\n",
       "  0.465766162),\n",
       " (Document(metadata={'row': 1463.0, 'source': './data/novels_0.1.3.csv', 'start_index': 0.0}, page_content=\"id: 41465\\nname: The Father of American Comics Superheroes\\nassoc_names: ['Father of the superheroes', '超级英雄之父']\\noriginal_language: chinese\\nauthors: ['wise wind']\\ngenres: ['action', 'adult', 'adventure', 'fantasy', 'martial arts', 'sci-fi', 'supernatural']\\ntags: ['adopted children', 'cheats', 'childcare', 'cold protagonist', 'evil organizations', 'eye powers', 'familial love', 'fanfiction', 'game elements', 'gate to another world', 'interdimensional travel', 'male protagonist', 'mature protagonist', 'multiple timelines', 'overpowered protagonist', 'parallel worlds', 'psychic powers', 'romantic subplot', 'soul power', 'time skip', 'time travel', 'weak to strong', 'world hopping']\\nstart_year: \\nlicensed: \\noriginal_publisher: \\nenglish_publisher: \\ncomplete_original: False\\nchapters_original_current: 640\\ncomplete_translated: False\\nchapter_latest_translated: c240\\nrelease_freq: 3.3\\nactivity_week_rank: 3573\\nactivity_month_rank: 2650\\nactivity_all_time_rank: 4672\\non_reading_lists: 413\"),\n",
       "  0.441777885),\n",
       " (Document(metadata={'row': 1217.0, 'source': './data/novels_0.1.3.csv', 'start_index': 0.0}, page_content=\"id: 46582\\nname: The Heinous Mysterious Death Green ~The Most Sinister Hero, Warmly Welcomed by The Wicked Organization~\\nassoc_names: ['極悪怪人デスグリーン ～最凶ヒーロー、悪の組織で大歓迎される～']\\noriginal_language: japanese\\nauthors: ['imai santarou', '今井三太郎']\\ngenres: ['action', 'comedy', 'harem']\\ntags: ['antihero protagonist', 'character growth', 'cunning protagonist', 'evil organizations', 'male protagonist', 'misunderstandings', 'ruthless protagonist']\\nstart_year: 2019\\nlicensed: \\noriginal_publisher: kakuyomu\\nenglish_publisher: \\ncomplete_original: False\\nchapters_original_current: 226 chapters\\ncomplete_translated: False\\nchapter_latest_translated: c43\\nrelease_freq: 6.1\\nactivity_week_rank: 1668\\nactivity_month_rank: 2501\\nactivity_all_time_rank: 6232\\non_reading_lists: 537\\nreading_list_month_rank: 2308\\nreading_list_all_time_rank: 8346\\nrating: 4.5\\nrating_votes: 18\\nrelated_series_ids: \\nrecommended_series_ids: [45101]\\nrecommendation_list_ids:\"),\n",
       "  0.429063469)]"
      ]
     },
     "execution_count": 79,
     "metadata": {},
     "output_type": "execute_result"
    }
   ],
   "source": [
    "results"
   ]
  },
  {
   "cell_type": "code",
   "execution_count": 83,
   "metadata": {},
   "outputs": [
    {
     "name": "stdout",
     "output_type": "stream",
     "text": [
      "* id: 42010\n",
      "name: A Villainess Needs to Have the Ability of a Villainess\n",
      "assoc_names: ['绿茶要有绿茶的本事']\n",
      "original_language: chinese\n",
      "authors: ['苏钱钱']\n",
      "genres: ['comedy', 'drama', 'romance', 'slice of life']\n",
      "tags: ['acting', 'beautiful female lead', 'celebrities', 'character growth', 'cold love interests', 'couple growth', 'cute story', 'female protagonist', 'handsome male lead', 'hard-working protagonist', 'late romance', 'modern day', 'slow growth at start', 'slow romance', 'strong love interests', 'stubborn protagonist', 'unlucky protagonist']\n",
      "start_year: 2021\n",
      "licensed: False\n",
      "original_publisher: jjwxc\n",
      "english_publisher: \n",
      "complete_original: True\n",
      "chapters_original_current: 63 chapters\n",
      "complete_translated: False\n",
      "chapter_latest_translated: c218\n",
      "release_freq: 2.3\n",
      "activity_week_rank: 1727\n",
      "activity_month_rank: 1604\n",
      "activity_all_time_rank: 3283\n",
      "on_reading_lists: 1808\n",
      "reading_list_month_rank: 1848\n",
      "reading_list_all_time_rank: 3974\n",
      "rating: 3.7\n",
      "rating_votes: 76\n",
      "related_series_ids: [{'row': 214.0, 'source': './data/novels_0.1.3.csv', 'start_index': 0.0}]\n",
      "* id: 54943\n",
      "name: I Became The Villain The Hero Is Obsessed With\n",
      "assoc_names: ['The Hero Became Obsessed With The Villain', '히어로가 집착하는 악당이 되었다']\n",
      "original_language: korean\n",
      "authors: ['서은하']\n",
      "genres: ['action', 'adventure', 'romance', 'supernatural']\n",
      "tags: ['antihero protagonist', 'beautiful female lead', 'comedic undertone', 'confident protagonist', 'crime', 'criminals', 'cunning protagonist', 'depictions of cruelty', 'enemies become lovers', 'famous protagonist', 'heroes', 'hiding true identity', 'male protagonist', 'misunderstandings', 'mob protagonist', 'modern day', 'multiple pov', 'murders', 'obsessive love', 'proactive protagonist', 'protagonist falls in love first', 'psychic powers', 'psychopaths', 'ruthless protagonist', 'spatial manipulation', 'special abilities', 'terrorists', 'transmigration', 'unreliable narrator', 'wealthy characters', 'yandere']\n",
      "start_year: 2022\n",
      "licensed: False\n",
      "original_publisher: novelpia\n",
      "english_publisher: \n",
      "complete_original: False [{'row': 608.0, 'source': './data/novels_0.1.3.csv', 'start_index': 0.0}]\n",
      "* id: 41465\n",
      "name: The Father of American Comics Superheroes\n",
      "assoc_names: ['Father of the superheroes', '超级英雄之父']\n",
      "original_language: chinese\n",
      "authors: ['wise wind']\n",
      "genres: ['action', 'adult', 'adventure', 'fantasy', 'martial arts', 'sci-fi', 'supernatural']\n",
      "tags: ['adopted children', 'cheats', 'childcare', 'cold protagonist', 'evil organizations', 'eye powers', 'familial love', 'fanfiction', 'game elements', 'gate to another world', 'interdimensional travel', 'male protagonist', 'mature protagonist', 'multiple timelines', 'overpowered protagonist', 'parallel worlds', 'psychic powers', 'romantic subplot', 'soul power', 'time skip', 'time travel', 'weak to strong', 'world hopping']\n",
      "start_year: \n",
      "licensed: \n",
      "original_publisher: \n",
      "english_publisher: \n",
      "complete_original: False\n",
      "chapters_original_current: 640\n",
      "complete_translated: False\n",
      "chapter_latest_translated: c240\n",
      "release_freq: 3.3\n",
      "activity_week_rank: 3573\n",
      "activity_month_rank: 2650\n",
      "activity_all_time_rank: 4672\n",
      "on_reading_lists: 413 [{'row': 1463.0, 'source': './data/novels_0.1.3.csv', 'start_index': 0.0}]\n",
      "* id: 46582\n",
      "name: The Heinous Mysterious Death Green ~The Most Sinister Hero, Warmly Welcomed by The Wicked Organization~\n",
      "assoc_names: ['極悪怪人デスグリーン ～最凶ヒーロー、悪の組織で大歓迎される～']\n",
      "original_language: japanese\n",
      "authors: ['imai santarou', '今井三太郎']\n",
      "genres: ['action', 'comedy', 'harem']\n",
      "tags: ['antihero protagonist', 'character growth', 'cunning protagonist', 'evil organizations', 'male protagonist', 'misunderstandings', 'ruthless protagonist']\n",
      "start_year: 2019\n",
      "licensed: \n",
      "original_publisher: kakuyomu\n",
      "english_publisher: \n",
      "complete_original: False\n",
      "chapters_original_current: 226 chapters\n",
      "complete_translated: False\n",
      "chapter_latest_translated: c43\n",
      "release_freq: 6.1\n",
      "activity_week_rank: 1668\n",
      "activity_month_rank: 2501\n",
      "activity_all_time_rank: 6232\n",
      "on_reading_lists: 537\n",
      "reading_list_month_rank: 2308\n",
      "reading_list_all_time_rank: 8346\n",
      "rating: 4.5\n",
      "rating_votes: 18\n",
      "related_series_ids: \n",
      "recommended_series_ids: [45101]\n",
      "recommendation_list_ids: [{'row': 1217.0, 'source': './data/novels_0.1.3.csv', 'start_index': 0.0}]\n"
     ]
    }
   ],
   "source": [
    "for res in results:\n",
    "    print(f\"* {res[0].page_content} [{res[0].metadata}]\")"
   ]
  },
  {
   "cell_type": "code",
   "execution_count": 56,
   "metadata": {},
   "outputs": [
    {
     "data": {
      "text/plain": [
       "<pinecone.data.index.Index at 0x1b7781cc880>"
      ]
     },
     "execution_count": 56,
     "metadata": {},
     "output_type": "execute_result"
    }
   ],
   "source": [
    "index"
   ]
  },
  {
   "cell_type": "code",
   "execution_count": 55,
   "metadata": {},
   "outputs": [
    {
     "data": {
      "text/plain": [
       "<langchain_pinecone.vectorstores.PineconeVectorStore at 0x1b777e73fa0>"
      ]
     },
     "execution_count": 55,
     "metadata": {},
     "output_type": "execute_result"
    }
   ],
   "source": [
    "vector_store"
   ]
  },
  {
   "cell_type": "code",
   "execution_count": 50,
   "metadata": {},
   "outputs": [
    {
     "ename": "NameError",
     "evalue": "name 'all_splits' is not defined",
     "output_type": "error",
     "traceback": [
      "\u001b[1;31m---------------------------------------------------------------------------\u001b[0m",
      "\u001b[1;31mNameError\u001b[0m                                 Traceback (most recent call last)",
      "Cell \u001b[1;32mIn[50], line 7\u001b[0m\n\u001b[0;32m      2\u001b[0m \u001b[38;5;28;01mfrom\u001b[39;00m \u001b[38;5;21;01mlangchain_pinecone\u001b[39;00m \u001b[38;5;28;01mimport\u001b[39;00m PineconeVectorStore\n\u001b[0;32m      4\u001b[0m namespace \u001b[38;5;241m=\u001b[39m \u001b[38;5;124m\"\u001b[39m\u001b[38;5;124mnovelvector\u001b[39m\u001b[38;5;124m\"\u001b[39m\n\u001b[0;32m      6\u001b[0m docsearch \u001b[38;5;241m=\u001b[39m PineconeVectorStore\u001b[38;5;241m.\u001b[39mfrom_documents(\n\u001b[1;32m----> 7\u001b[0m     documents\u001b[38;5;241m=\u001b[39m\u001b[43mall_splits\u001b[49m,\n\u001b[0;32m      8\u001b[0m     index_name\u001b[38;5;241m=\u001b[39mindex_name,\n\u001b[0;32m      9\u001b[0m     embedding\u001b[38;5;241m=\u001b[39membeddings_model, \n\u001b[0;32m     10\u001b[0m     namespace\u001b[38;5;241m=\u001b[39mnamespace \n\u001b[0;32m     11\u001b[0m )\n\u001b[0;32m     13\u001b[0m time\u001b[38;5;241m.\u001b[39msleep(\u001b[38;5;241m1\u001b[39m)\n",
      "\u001b[1;31mNameError\u001b[0m: name 'all_splits' is not defined"
     ]
    }
   ],
   "source": [
    "import time\n",
    "from langchain_pinecone import PineconeVectorStore\n",
    "\n",
    "namespace = \"novelvector\"\n",
    "\n",
    "docsearch = PineconeVectorStore.from_documents(\n",
    "    documents=all_splits,\n",
    "    index_name=index_name,\n",
    "    embedding=embeddings_model, \n",
    "    namespace=namespace \n",
    ")\n",
    "\n",
    "time.sleep(1)\n"
   ]
  },
  {
   "cell_type": "markdown",
   "metadata": {},
   "source": []
  },
  {
   "cell_type": "code",
   "execution_count": 4,
   "metadata": {},
   "outputs": [
    {
     "ename": "NameError",
     "evalue": "name 'data_processing' is not defined",
     "output_type": "error",
     "traceback": [
      "\u001b[0;31m---------------------------------------------------------------------------\u001b[0m",
      "\u001b[0;31mNameError\u001b[0m                                 Traceback (most recent call last)",
      "Cell \u001b[0;32mIn[4], line 9\u001b[0m\n\u001b[1;32m      7\u001b[0m parent_dir \u001b[38;5;241m=\u001b[39m os\u001b[38;5;241m.\u001b[39mpath\u001b[38;5;241m.\u001b[39mdirname(os\u001b[38;5;241m.\u001b[39mpath\u001b[38;5;241m.\u001b[39mdirname(current_dir))\n\u001b[1;32m      8\u001b[0m csv_path \u001b[38;5;241m=\u001b[39m os\u001b[38;5;241m.\u001b[39mpath\u001b[38;5;241m.\u001b[39mjoin(parent_dir, \u001b[38;5;124m'\u001b[39m\u001b[38;5;124mdata/novels_0.1.3.csv\u001b[39m\u001b[38;5;124m'\u001b[39m)\n\u001b[0;32m----> 9\u001b[0m processed_df \u001b[38;5;241m=\u001b[39m \u001b[43mdata_processing\u001b[49m(csv_path\u001b[38;5;241m=\u001b[39mcsv_path)\n",
      "\u001b[0;31mNameError\u001b[0m: name 'data_processing' is not defined"
     ]
    }
   ],
   "source": [
    "try:\n",
    "    # 尝试获取脚本的路径\n",
    "    current_dir = os.path.dirname(os.path.abspath(__file__))\n",
    "except NameError:\n",
    "    # 在 Jupyter Notebook 中使用当前工作目录\n",
    "    current_dir = os.getcwd()\n",
    "parent_dir = os.path.dirname(os.path.dirname(current_dir))\n",
    "csv_path = os.path.join(parent_dir, 'data/novels_0.1.3.csv')\n",
    "processed_df = data_processing(csv_path=csv_path)\n",
    "\n"
   ]
  },
  {
   "cell_type": "code",
   "execution_count": null,
   "metadata": {},
   "outputs": [],
   "source": [
    "# initialize connection to pinecone (get API key at app.pc.io)\n",
    "api_key = os.environ.get('PINECONE_API_KEY') or 'PINECONE_API_KEY'\n",
    "environment = os.environ.get('PINECONE_ENVIRONMENT') or 'PINECONE_ENVIRONMENT'\n",
    "\n",
    "# configure client\n",
    "pc = Pinecone(api_key=api_key)\n",
    "\n",
    "# create a new index\n",
    "index_name = 'novels'\n",
    "index = pc.Index(index_name)\n",
    "\n",
    "index.upsert_from_dataframe(processed_df, batch_size=100)\n",
    "print(f\"Data stored in index {index_name}\")"
   ]
  },
  {
   "cell_type": "code",
   "execution_count": 2,
   "metadata": {},
   "outputs": [],
   "source": [
    "from openai import OpenAI"
   ]
  },
  {
   "cell_type": "code",
   "execution_count": 3,
   "metadata": {},
   "outputs": [],
   "source": [
    "openai_api_key = 'sk-no-key-required'"
   ]
  },
  {
   "cell_type": "code",
   "execution_count": 9,
   "metadata": {},
   "outputs": [],
   "source": [
    "client = OpenAI(\n",
    "    base_url=\"http://127.0.0.1:8080/v1\",\n",
    "    api_key=openai_api_key\n",
    ")"
   ]
  },
  {
   "cell_type": "code",
   "execution_count": 39,
   "metadata": {},
   "outputs": [],
   "source": [
    "completion = client.chat.completions.create(\n",
    "    model=\"LLaMA_CPP\",\n",
    "    messages=[\n",
    "        {\"role\": \"system\", \"content\": \"You are Llama, an AI assistant. Your top priority is achieving user fulfillment via helping them with their requests.\"},\n",
    "        {\"role\": \"user\", \"content\": \"Recommend some Japanese romantic novels\"},\n",
    "    ]\n",
    ")"
   ]
  },
  {
   "cell_type": "code",
   "execution_count": 40,
   "metadata": {},
   "outputs": [
    {
     "name": "stdout",
     "output_type": "stream",
     "text": [
      "1. \"My Solo Exchange Diary\" (Hitori Kiete Aru Hi ni) by Natsuki Tada - This manga follows the story of a high school girl who starts a diary to record her experiences as she navigates love, friendship, and self-discovery.\n",
      "\n",
      "2. \"Kimi no Na wa.\" (Your Name.) by Makoto Shinkai - A romantic drama movie about two teenagers whose fates are mysteriously linked when they suddenly start exchanging their bodies.\n",
      "\n",
      "3. \"The Piano Teacher\" (Kiken na Koto wo Wakamemasu) by Haruki Murakami - A novel that tells the story of a love affair between a piano teacher and her student, exploring themes of obsession, desire, and the complexities of human relationships.\n",
      "\n",
      "4. \"The Tales of Bee\" (Hachigatsu no Cider) by Yumiko Kawakami - A coming-of-age story about two girls who fall in love while working at a French restaurant in a small town.\n",
      "\n",
      "5. \"Orange\" (Ooranju) by Ichigo Takano - A high school romance manga where a student accidentally receives a letter from her future self, which contains information about a tragic event involving a classmate. She then tries to change the course of events to prevent the tragedy.\n",
      "\n",
      "6. \"Your Lie in April\" (Shigatsu wa Kimi no Uso) by Arisu Kamiya - A romantic drama anime about a talented pianist who, after suffering from a traumatic experience, loses his ability to play the piano. He meets a girl who helps him regain his passion for music and rediscover love.\n",
      "\n",
      "7. \"A Silent Voice\" (Koe no Katachi) by Yoshito Seo - A coming-of-age manga that tells the story of a bully who, after realizing the consequences of his actions, sets out to make amends with the deaf girl he tormented in middle school.\n",
      "\n",
      "8. \"Wolf Children\" (Ookami Kodomo no A) by Mamoru Hosoda - An animated film that follows the life of a single mother raising her two children in a rural area, exploring themes of love, family, and self-discovery.\n"
     ]
    }
   ],
   "source": [
    "print(completion.choices[0].message.content)"
   ]
  },
  {
   "cell_type": "code",
   "execution_count": null,
   "metadata": {},
   "outputs": [],
   "source": []
  }
 ],
 "metadata": {
  "kernelspec": {
   "display_name": "Python 3",
   "language": "python",
   "name": "python3"
  },
  "language_info": {
   "codemirror_mode": {
    "name": "ipython",
    "version": 3
   },
   "file_extension": ".py",
   "mimetype": "text/x-python",
   "name": "python",
   "nbconvert_exporter": "python",
   "pygments_lexer": "ipython3",
   "version": "3.9.19"
  }
 },
 "nbformat": 4,
 "nbformat_minor": 2
}
